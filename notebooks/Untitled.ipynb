{
 "cells": [
  {
   "cell_type": "code",
   "execution_count": 3,
   "id": "ad0bf790",
   "metadata": {
    "ExecuteTime": {
     "end_time": "2023-03-20T14:42:09.982760Z",
     "start_time": "2023-03-20T14:42:09.971871Z"
    }
   },
   "outputs": [],
   "source": [
    "# Mostra todos os resultados da célula, não apenas o último\n",
    "from IPython.core.interactiveshell import InteractiveShell\n",
    "from IPython.display import display\n",
    "InteractiveShell.ast_node_interactivity = \"all\"\n",
    "\n",
    "import numpy as np\n",
    "import pandas as pd\n",
    "import itertools\n",
    "import astropy.coordinates as coord\n",
    "import astropy.units as u\n",
    "from astropy.wcs import WCS\n",
    "from astropy.time import Time, TimeDelta\n",
    "from astroquery.simbad import Simbad\n",
    "from astroquery.vizier import Vizier\n",
    "import dask.array as da\n",
    "import matplotlib.cm as cm\n",
    "import matplotlib.dates as mdates\n",
    "from matplotlib.patches import Circle\n",
    "import matplotlib.pyplot as plt\n",
    "from skyfield import api\n",
    "from skyfield.api import Loader\n",
    "import pytz"
   ]
  },
  {
   "cell_type": "code",
   "execution_count": 10,
   "id": "395a7792",
   "metadata": {
    "ExecuteTime": {
     "end_time": "2023-03-20T14:45:38.539650Z",
     "start_time": "2023-03-20T14:45:38.493114Z"
    }
   },
   "outputs": [],
   "source": [
    "fuso = pytz.timezone(\"America/Recife\")\n",
    "begin = fuso.localize(pd.to_datetime(\"2023-03-02 0:00:00\"))\n",
    "_ts = api.load.timescale()"
   ]
  },
  {
   "cell_type": "code",
   "execution_count": 5,
   "id": "004cc6e6",
   "metadata": {
    "ExecuteTime": {
     "end_time": "2023-03-20T14:42:14.820260Z",
     "start_time": "2023-03-20T14:42:14.781211Z"
    }
   },
   "outputs": [
    {
     "data": {
      "text/plain": [
       "Timestamp('2023-03-02 00:00:00-0300', tz='America/Recife')"
      ]
     },
     "execution_count": 5,
     "metadata": {},
     "output_type": "execute_result"
    }
   ],
   "source": [
    "begin"
   ]
  },
  {
   "cell_type": "code",
   "execution_count": 9,
   "id": "3e56976d",
   "metadata": {
    "ExecuteTime": {
     "end_time": "2023-03-20T14:45:10.084479Z",
     "start_time": "2023-03-20T14:45:10.070616Z"
    }
   },
   "outputs": [],
   "source": [
    "delta = 1 * u.h\n",
    "duration = 24 * u.h\n",
    "delta = delta.to(u.s).value\n",
    "steps = duration.to(u.s).value / delta\n",
    "# timevector esta correto em UTC\n",
    "timelist = Time(begin, scale='utc') + np.arange(steps)*TimeDelta(delta, format='sec', scale='tai')"
   ]
  },
  {
   "cell_type": "code",
   "execution_count": 15,
   "id": "7cb0e2f5",
   "metadata": {
    "ExecuteTime": {
     "end_time": "2023-03-20T14:51:01.594892Z",
     "start_time": "2023-03-20T14:51:01.586677Z"
    }
   },
   "outputs": [],
   "source": [
    "timevector = _ts.from_astropy(timelist)"
   ]
  },
  {
   "cell_type": "code",
   "execution_count": 29,
   "id": "c1c32374",
   "metadata": {
    "ExecuteTime": {
     "end_time": "2023-03-20T15:08:51.022711Z",
     "start_time": "2023-03-20T15:08:51.012969Z"
    }
   },
   "outputs": [
    {
     "data": {
      "text/plain": [
       "array([2460005.62580076, 2460005.66746742, 2460005.70913409,\n",
       "       2460005.75080076, 2460005.79246742, 2460005.83413409,\n",
       "       2460005.87580076, 2460005.91746742, 2460005.95913409,\n",
       "       2460006.00080076, 2460006.04246742, 2460006.08413409,\n",
       "       2460006.12580076, 2460006.16746742, 2460006.20913409,\n",
       "       2460006.25080076, 2460006.29246742, 2460006.33413409,\n",
       "       2460006.37580076, 2460006.41746742, 2460006.45913409,\n",
       "       2460006.50080076, 2460006.54246742, 2460006.58413409])"
      ]
     },
     "execution_count": 29,
     "metadata": {},
     "output_type": "execute_result"
    }
   ],
   "source": [
    "timevector.tdb"
   ]
  },
  {
   "cell_type": "code",
   "execution_count": 40,
   "id": "1855f206",
   "metadata": {
    "ExecuteTime": {
     "end_time": "2023-03-20T15:33:41.270501Z",
     "start_time": "2023-03-20T15:33:41.188308Z"
    }
   },
   "outputs": [],
   "source": [
    "timestamp = pd.Series(pd.to_datetime(timevector.tai[0], unit=\"D\", origin=\"julian\"))"
   ]
  },
  {
   "cell_type": "code",
   "execution_count": 37,
   "id": "b1e099aa",
   "metadata": {
    "ExecuteTime": {
     "end_time": "2023-03-20T15:15:24.357962Z",
     "start_time": "2023-03-20T15:15:24.347261Z"
    }
   },
   "outputs": [
    {
     "data": {
      "text/plain": [
       "Timestamp('2023-03-02 03:00:37.000000512+0000', tz='UTC')"
      ]
     },
     "execution_count": 37,
     "metadata": {},
     "output_type": "execute_result"
    }
   ],
   "source": [
    "timestamp.tz_localize(\"UTC\")"
   ]
  },
  {
   "cell_type": "code",
   "execution_count": 44,
   "id": "ef82f4bd",
   "metadata": {
    "ExecuteTime": {
     "end_time": "2023-03-20T15:34:24.698921Z",
     "start_time": "2023-03-20T15:34:24.670207Z"
    }
   },
   "outputs": [
    {
     "data": {
      "text/plain": [
       "0   2023-03-02 00:00:37.000000512-03:00\n",
       "dtype: datetime64[ns, America/Recife]"
      ]
     },
     "execution_count": 44,
     "metadata": {},
     "output_type": "execute_result"
    }
   ],
   "source": [
    "timestamp.dt.tz_localize(\"UTC\").dt.tz_convert(fuso)"
   ]
  },
  {
   "cell_type": "code",
   "execution_count": null,
   "id": "75462d6f",
   "metadata": {},
   "outputs": [],
   "source": []
  }
 ],
 "metadata": {
  "hide_input": false,
  "kernelspec": {
   "display_name": "PIBIC",
   "language": "python",
   "name": "pibic"
  },
  "language_info": {
   "codemirror_mode": {
    "name": "ipython",
    "version": 3
   },
   "file_extension": ".py",
   "mimetype": "text/x-python",
   "name": "python",
   "nbconvert_exporter": "python",
   "pygments_lexer": "ipython3",
   "version": "3.9.13"
  },
  "latex_envs": {
   "LaTeX_envs_menu_present": true,
   "autoclose": true,
   "autocomplete": false,
   "bibliofile": "biblio.bib",
   "cite_by": "apalike",
   "current_citInitial": 1,
   "eqLabelWithNumbers": true,
   "eqNumInitial": 1,
   "hotkeys": {
    "equation": "Ctrl-E",
    "itemize": "Ctrl-I"
   },
   "labels_anchors": false,
   "latex_user_defs": false,
   "report_style_numbering": true,
   "user_envs_cfg": false
  },
  "toc": {
   "base_numbering": 1,
   "nav_menu": {},
   "number_sections": false,
   "sideBar": true,
   "skip_h1_title": true,
   "title_cell": "Table of Contents",
   "title_sidebar": "Contents",
   "toc_cell": false,
   "toc_position": {},
   "toc_section_display": true,
   "toc_window_display": false
  }
 },
 "nbformat": 4,
 "nbformat_minor": 5
}
